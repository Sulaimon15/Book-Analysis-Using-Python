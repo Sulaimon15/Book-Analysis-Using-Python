{
 "cells": [
  {
   "cell_type": "code",
   "execution_count": 1,
   "id": "24a04ac7",
   "metadata": {},
   "outputs": [],
   "source": [
    "# importing the necessary libraries\n",
    "\n",
    "import pandas as pd\n",
    "import matplotlib.pyplot as plt\n",
    "import seaborn as sns\n",
    "%matplotlib inline\n",
    "\n",
    "import warnings\n",
    "warnings.filterwarnings('ignore')"
   ]
  },
  {
   "cell_type": "code",
   "execution_count": 2,
   "id": "a0ef9cf5",
   "metadata": {},
   "outputs": [
    {
     "data": {
      "text/html": [
       "<div>\n",
       "<style scoped>\n",
       "    .dataframe tbody tr th:only-of-type {\n",
       "        vertical-align: middle;\n",
       "    }\n",
       "\n",
       "    .dataframe tbody tr th {\n",
       "        vertical-align: top;\n",
       "    }\n",
       "\n",
       "    .dataframe thead th {\n",
       "        text-align: right;\n",
       "    }\n",
       "</style>\n",
       "<table border=\"1\" class=\"dataframe\">\n",
       "  <thead>\n",
       "    <tr style=\"text-align: right;\">\n",
       "      <th></th>\n",
       "      <th>index</th>\n",
       "      <th>Publishing Year</th>\n",
       "      <th>Book Name</th>\n",
       "      <th>Author</th>\n",
       "      <th>language_code</th>\n",
       "      <th>Author_Rating</th>\n",
       "      <th>Book_average_rating</th>\n",
       "      <th>Book_ratings_count</th>\n",
       "      <th>genre</th>\n",
       "      <th>gross sales</th>\n",
       "      <th>publisher revenue</th>\n",
       "      <th>sale price</th>\n",
       "      <th>sales rank</th>\n",
       "      <th>Publisher</th>\n",
       "      <th>units sold</th>\n",
       "    </tr>\n",
       "  </thead>\n",
       "  <tbody>\n",
       "    <tr>\n",
       "      <th>0</th>\n",
       "      <td>0</td>\n",
       "      <td>1975.0</td>\n",
       "      <td>Beowulf</td>\n",
       "      <td>Unknown, Seamus Heaney</td>\n",
       "      <td>en-US</td>\n",
       "      <td>Novice</td>\n",
       "      <td>3.42</td>\n",
       "      <td>155903</td>\n",
       "      <td>genre fiction</td>\n",
       "      <td>34160.0</td>\n",
       "      <td>20496.0</td>\n",
       "      <td>4.88</td>\n",
       "      <td>1</td>\n",
       "      <td>HarperCollins Publishers</td>\n",
       "      <td>7000</td>\n",
       "    </tr>\n",
       "    <tr>\n",
       "      <th>1</th>\n",
       "      <td>1</td>\n",
       "      <td>1987.0</td>\n",
       "      <td>Batman: Year One</td>\n",
       "      <td>Frank Miller, David Mazzucchelli, Richmond Lew...</td>\n",
       "      <td>eng</td>\n",
       "      <td>Intermediate</td>\n",
       "      <td>4.23</td>\n",
       "      <td>145267</td>\n",
       "      <td>genre fiction</td>\n",
       "      <td>12437.5</td>\n",
       "      <td>7462.5</td>\n",
       "      <td>1.99</td>\n",
       "      <td>2</td>\n",
       "      <td>HarperCollins Publishers</td>\n",
       "      <td>6250</td>\n",
       "    </tr>\n",
       "    <tr>\n",
       "      <th>2</th>\n",
       "      <td>2</td>\n",
       "      <td>2015.0</td>\n",
       "      <td>Go Set a Watchman</td>\n",
       "      <td>Harper Lee</td>\n",
       "      <td>eng</td>\n",
       "      <td>Novice</td>\n",
       "      <td>3.31</td>\n",
       "      <td>138669</td>\n",
       "      <td>genre fiction</td>\n",
       "      <td>47795.0</td>\n",
       "      <td>28677.0</td>\n",
       "      <td>8.69</td>\n",
       "      <td>3</td>\n",
       "      <td>Amazon Digital Services,  Inc.</td>\n",
       "      <td>5500</td>\n",
       "    </tr>\n",
       "    <tr>\n",
       "      <th>3</th>\n",
       "      <td>3</td>\n",
       "      <td>2008.0</td>\n",
       "      <td>When You Are Engulfed in Flames</td>\n",
       "      <td>David Sedaris</td>\n",
       "      <td>en-US</td>\n",
       "      <td>Intermediate</td>\n",
       "      <td>4.04</td>\n",
       "      <td>150898</td>\n",
       "      <td>fiction</td>\n",
       "      <td>41250.0</td>\n",
       "      <td>24750.0</td>\n",
       "      <td>7.50</td>\n",
       "      <td>3</td>\n",
       "      <td>Hachette Book Group</td>\n",
       "      <td>5500</td>\n",
       "    </tr>\n",
       "    <tr>\n",
       "      <th>4</th>\n",
       "      <td>4</td>\n",
       "      <td>2011.0</td>\n",
       "      <td>Daughter of Smoke &amp; Bone</td>\n",
       "      <td>Laini Taylor</td>\n",
       "      <td>eng</td>\n",
       "      <td>Intermediate</td>\n",
       "      <td>4.04</td>\n",
       "      <td>198283</td>\n",
       "      <td>genre fiction</td>\n",
       "      <td>37952.5</td>\n",
       "      <td>22771.5</td>\n",
       "      <td>7.99</td>\n",
       "      <td>4</td>\n",
       "      <td>Penguin Group (USA) LLC</td>\n",
       "      <td>4750</td>\n",
       "    </tr>\n",
       "  </tbody>\n",
       "</table>\n",
       "</div>"
      ],
      "text/plain": [
       "   index  Publishing Year                        Book Name  \\\n",
       "0      0           1975.0                          Beowulf   \n",
       "1      1           1987.0                 Batman: Year One   \n",
       "2      2           2015.0                Go Set a Watchman   \n",
       "3      3           2008.0  When You Are Engulfed in Flames   \n",
       "4      4           2011.0         Daughter of Smoke & Bone   \n",
       "\n",
       "                                              Author language_code  \\\n",
       "0                             Unknown, Seamus Heaney         en-US   \n",
       "1  Frank Miller, David Mazzucchelli, Richmond Lew...           eng   \n",
       "2                                         Harper Lee           eng   \n",
       "3                                      David Sedaris         en-US   \n",
       "4                                       Laini Taylor           eng   \n",
       "\n",
       "  Author_Rating  Book_average_rating  Book_ratings_count          genre  \\\n",
       "0        Novice                 3.42              155903  genre fiction   \n",
       "1  Intermediate                 4.23              145267  genre fiction   \n",
       "2        Novice                 3.31              138669  genre fiction   \n",
       "3  Intermediate                 4.04              150898        fiction   \n",
       "4  Intermediate                 4.04              198283  genre fiction   \n",
       "\n",
       "   gross sales  publisher revenue  sale price  sales rank  \\\n",
       "0      34160.0            20496.0        4.88           1   \n",
       "1      12437.5             7462.5        1.99           2   \n",
       "2      47795.0            28677.0        8.69           3   \n",
       "3      41250.0            24750.0        7.50           3   \n",
       "4      37952.5            22771.5        7.99           4   \n",
       "\n",
       "                       Publisher   units sold  \n",
       "0        HarperCollins Publishers        7000  \n",
       "1        HarperCollins Publishers        6250  \n",
       "2  Amazon Digital Services,  Inc.        5500  \n",
       "3             Hachette Book Group        5500  \n",
       "4         Penguin Group (USA) LLC        4750  "
      ]
     },
     "execution_count": 2,
     "metadata": {},
     "output_type": "execute_result"
    }
   ],
   "source": [
    "# reading the dataset into dataframe\n",
    "\n",
    "data = pd.read_csv('Books_Data.csv')      \n",
    "df = data.copy()\n",
    "df.head()"
   ]
  },
  {
   "cell_type": "code",
   "execution_count": 3,
   "id": "ca984f0b",
   "metadata": {},
   "outputs": [
    {
     "data": {
      "text/plain": [
       "index                   0\n",
       "Publishing Year         1\n",
       "Book Name              23\n",
       "Author                  0\n",
       "language_code          53\n",
       "Author_Rating           0\n",
       "Book_average_rating     0\n",
       "Book_ratings_count      0\n",
       "genre                   0\n",
       "gross sales             0\n",
       "publisher revenue       0\n",
       "sale price              0\n",
       "sales rank              0\n",
       "Publisher               0\n",
       "units sold              0\n",
       "dtype: int64"
      ]
     },
     "execution_count": 3,
     "metadata": {},
     "output_type": "execute_result"
    }
   ],
   "source": [
    "# checking for missing values\n",
    "\n",
    "df.isna().sum()"
   ]
  },
  {
   "cell_type": "code",
   "execution_count": 40,
   "id": "ae91c86f",
   "metadata": {},
   "outputs": [
    {
     "name": "stdout",
     "output_type": "stream",
     "text": [
      "There are 1063 rows in the dataset\n",
      "There are 16 columns in the dataset\n"
     ]
    }
   ],
   "source": [
    "# checking the shape of the dataset\n",
    "\n",
    "df.shape\n",
    "\n",
    "print(f'There are {df.shape[0]} rows in the dataset')\n",
    "print(f'There are {df.shape[1]} columns in the dataset')"
   ]
  },
  {
   "cell_type": "code",
   "execution_count": 5,
   "id": "7a7a16b9",
   "metadata": {},
   "outputs": [
    {
     "data": {
      "text/plain": [
       "index                    int64\n",
       "Publishing Year        float64\n",
       "Book Name               object\n",
       "Author                  object\n",
       "language_code           object\n",
       "Author_Rating           object\n",
       "Book_average_rating    float64\n",
       "Book_ratings_count       int64\n",
       "genre                   object\n",
       "gross sales            float64\n",
       "publisher revenue      float64\n",
       "sale price             float64\n",
       "sales rank               int64\n",
       "Publisher               object\n",
       "units sold               int64\n",
       "dtype: object"
      ]
     },
     "execution_count": 5,
     "metadata": {},
     "output_type": "execute_result"
    }
   ],
   "source": [
    "#checking the datatypes\n",
    "\n",
    "df.dtypes"
   ]
  },
  {
   "cell_type": "code",
   "execution_count": 6,
   "id": "c8e88f73",
   "metadata": {},
   "outputs": [
    {
     "name": "stdout",
     "output_type": "stream",
     "text": [
      "<class 'pandas.core.frame.DataFrame'>\n",
      "RangeIndex: 1070 entries, 0 to 1069\n",
      "Data columns (total 15 columns):\n",
      " #   Column               Non-Null Count  Dtype  \n",
      "---  ------               --------------  -----  \n",
      " 0   index                1070 non-null   int64  \n",
      " 1   Publishing Year      1069 non-null   float64\n",
      " 2   Book Name            1047 non-null   object \n",
      " 3   Author               1070 non-null   object \n",
      " 4   language_code        1017 non-null   object \n",
      " 5   Author_Rating        1070 non-null   object \n",
      " 6   Book_average_rating  1070 non-null   float64\n",
      " 7   Book_ratings_count   1070 non-null   int64  \n",
      " 8   genre                1070 non-null   object \n",
      " 9   gross sales          1070 non-null   float64\n",
      " 10  publisher revenue    1070 non-null   float64\n",
      " 11  sale price           1070 non-null   float64\n",
      " 12  sales rank           1070 non-null   int64  \n",
      " 13  Publisher            1070 non-null   object \n",
      " 14  units sold           1070 non-null   int64  \n",
      "dtypes: float64(5), int64(4), object(6)\n",
      "memory usage: 125.5+ KB\n"
     ]
    }
   ],
   "source": [
    "# checking the information about the dataset\n",
    "\n",
    "df.info()"
   ]
  },
  {
   "cell_type": "code",
   "execution_count": 7,
   "id": "0dd66d64",
   "metadata": {},
   "outputs": [
    {
     "data": {
      "text/html": [
       "<div>\n",
       "<style scoped>\n",
       "    .dataframe tbody tr th:only-of-type {\n",
       "        vertical-align: middle;\n",
       "    }\n",
       "\n",
       "    .dataframe tbody tr th {\n",
       "        vertical-align: top;\n",
       "    }\n",
       "\n",
       "    .dataframe thead th {\n",
       "        text-align: right;\n",
       "    }\n",
       "</style>\n",
       "<table border=\"1\" class=\"dataframe\">\n",
       "  <thead>\n",
       "    <tr style=\"text-align: right;\">\n",
       "      <th></th>\n",
       "      <th>index</th>\n",
       "      <th>Publishing Year</th>\n",
       "      <th>Book_average_rating</th>\n",
       "      <th>Book_ratings_count</th>\n",
       "      <th>gross sales</th>\n",
       "      <th>publisher revenue</th>\n",
       "      <th>sale price</th>\n",
       "      <th>sales rank</th>\n",
       "      <th>units sold</th>\n",
       "    </tr>\n",
       "  </thead>\n",
       "  <tbody>\n",
       "    <tr>\n",
       "      <th>count</th>\n",
       "      <td>1070.000000</td>\n",
       "      <td>1069.000000</td>\n",
       "      <td>1070.000000</td>\n",
       "      <td>1070.000000</td>\n",
       "      <td>1070.000000</td>\n",
       "      <td>1070.000000</td>\n",
       "      <td>1070.000000</td>\n",
       "      <td>1070.000000</td>\n",
       "      <td>1070.000000</td>\n",
       "    </tr>\n",
       "    <tr>\n",
       "      <th>mean</th>\n",
       "      <td>534.500000</td>\n",
       "      <td>1971.377923</td>\n",
       "      <td>4.007000</td>\n",
       "      <td>94909.913084</td>\n",
       "      <td>1856.622944</td>\n",
       "      <td>843.281030</td>\n",
       "      <td>4.869561</td>\n",
       "      <td>611.652336</td>\n",
       "      <td>9676.980374</td>\n",
       "    </tr>\n",
       "    <tr>\n",
       "      <th>std</th>\n",
       "      <td>309.026698</td>\n",
       "      <td>185.080257</td>\n",
       "      <td>0.247244</td>\n",
       "      <td>31513.242518</td>\n",
       "      <td>3936.924240</td>\n",
       "      <td>2257.596743</td>\n",
       "      <td>3.559919</td>\n",
       "      <td>369.849830</td>\n",
       "      <td>15370.571306</td>\n",
       "    </tr>\n",
       "    <tr>\n",
       "      <th>min</th>\n",
       "      <td>0.000000</td>\n",
       "      <td>-560.000000</td>\n",
       "      <td>2.970000</td>\n",
       "      <td>27308.000000</td>\n",
       "      <td>104.940000</td>\n",
       "      <td>0.000000</td>\n",
       "      <td>0.990000</td>\n",
       "      <td>1.000000</td>\n",
       "      <td>106.000000</td>\n",
       "    </tr>\n",
       "    <tr>\n",
       "      <th>25%</th>\n",
       "      <td>267.250000</td>\n",
       "      <td>1985.000000</td>\n",
       "      <td>3.850000</td>\n",
       "      <td>70398.000000</td>\n",
       "      <td>372.465000</td>\n",
       "      <td>0.000000</td>\n",
       "      <td>1.990000</td>\n",
       "      <td>287.500000</td>\n",
       "      <td>551.250000</td>\n",
       "    </tr>\n",
       "    <tr>\n",
       "      <th>50%</th>\n",
       "      <td>534.500000</td>\n",
       "      <td>2003.000000</td>\n",
       "      <td>4.015000</td>\n",
       "      <td>89309.000000</td>\n",
       "      <td>809.745000</td>\n",
       "      <td>273.078000</td>\n",
       "      <td>3.990000</td>\n",
       "      <td>595.500000</td>\n",
       "      <td>3924.000000</td>\n",
       "    </tr>\n",
       "    <tr>\n",
       "      <th>75%</th>\n",
       "      <td>801.750000</td>\n",
       "      <td>2010.000000</td>\n",
       "      <td>4.170000</td>\n",
       "      <td>113906.500000</td>\n",
       "      <td>1487.957500</td>\n",
       "      <td>721.180500</td>\n",
       "      <td>6.990000</td>\n",
       "      <td>932.500000</td>\n",
       "      <td>5312.250000</td>\n",
       "    </tr>\n",
       "    <tr>\n",
       "      <th>max</th>\n",
       "      <td>1069.000000</td>\n",
       "      <td>2016.000000</td>\n",
       "      <td>4.770000</td>\n",
       "      <td>206792.000000</td>\n",
       "      <td>47795.000000</td>\n",
       "      <td>28677.000000</td>\n",
       "      <td>33.860000</td>\n",
       "      <td>1273.000000</td>\n",
       "      <td>61560.000000</td>\n",
       "    </tr>\n",
       "  </tbody>\n",
       "</table>\n",
       "</div>"
      ],
      "text/plain": [
       "             index  Publishing Year  Book_average_rating  Book_ratings_count  \\\n",
       "count  1070.000000      1069.000000          1070.000000         1070.000000   \n",
       "mean    534.500000      1971.377923             4.007000        94909.913084   \n",
       "std     309.026698       185.080257             0.247244        31513.242518   \n",
       "min       0.000000      -560.000000             2.970000        27308.000000   \n",
       "25%     267.250000      1985.000000             3.850000        70398.000000   \n",
       "50%     534.500000      2003.000000             4.015000        89309.000000   \n",
       "75%     801.750000      2010.000000             4.170000       113906.500000   \n",
       "max    1069.000000      2016.000000             4.770000       206792.000000   \n",
       "\n",
       "        gross sales  publisher revenue   sale price   sales rank    units sold  \n",
       "count   1070.000000        1070.000000  1070.000000  1070.000000   1070.000000  \n",
       "mean    1856.622944         843.281030     4.869561   611.652336   9676.980374  \n",
       "std     3936.924240        2257.596743     3.559919   369.849830  15370.571306  \n",
       "min      104.940000           0.000000     0.990000     1.000000    106.000000  \n",
       "25%      372.465000           0.000000     1.990000   287.500000    551.250000  \n",
       "50%      809.745000         273.078000     3.990000   595.500000   3924.000000  \n",
       "75%     1487.957500         721.180500     6.990000   932.500000   5312.250000  \n",
       "max    47795.000000       28677.000000    33.860000  1273.000000  61560.000000  "
      ]
     },
     "execution_count": 7,
     "metadata": {},
     "output_type": "execute_result"
    }
   ],
   "source": [
    "# statistical description of numerical values \n",
    "\n",
    "df.describe()"
   ]
  },
  {
   "cell_type": "code",
   "execution_count": 8,
   "id": "bbfdbeb8",
   "metadata": {},
   "outputs": [
    {
     "data": {
      "text/plain": [
       "Index(['index', 'Publishing Year', 'Book Name', 'Author', 'language_code',\n",
       "       'Author_Rating', 'Book_average_rating', 'Book_ratings_count', 'genre',\n",
       "       'gross sales', 'publisher revenue', 'sale price', 'sales rank',\n",
       "       'Publisher ', 'units sold'],\n",
       "      dtype='object')"
      ]
     },
     "execution_count": 8,
     "metadata": {},
     "output_type": "execute_result"
    }
   ],
   "source": [
    "# checking the columns in the dataset\n",
    "\n",
    "df.columns"
   ]
  },
  {
   "cell_type": "code",
   "execution_count": 9,
   "id": "5ea911d3",
   "metadata": {},
   "outputs": [
    {
     "name": "stdout",
     "output_type": "stream",
     "text": [
      " There are 0 duplicates\n"
     ]
    }
   ],
   "source": [
    "# checking for duplicates\n",
    "\n",
    "duplicates_count = df.duplicated().sum()\n",
    "print (f' There are {duplicates_count} duplicates')"
   ]
  },
  {
   "cell_type": "markdown",
   "id": "ac40d880",
   "metadata": {},
   "source": [
    "### Data Cleaning\n"
   ]
  },
  {
   "cell_type": "code",
   "execution_count": 10,
   "id": "a189858f",
   "metadata": {},
   "outputs": [],
   "source": [
    "# dropping the missing value row n the year column since its a single row\n",
    "\n",
    "df = df.dropna(subset =['Publishing Year'] )"
   ]
  },
  {
   "cell_type": "code",
   "execution_count": 11,
   "id": "e1935369",
   "metadata": {},
   "outputs": [],
   "source": [
    "# filling the missing language code with the most occuring language code\n",
    "\n",
    "mod_language =df['language_code'].mode()[0]\n",
    "df['language_code'].fillna(mod_language, inplace = True)"
   ]
  },
  {
   "cell_type": "code",
   "execution_count": 12,
   "id": "10266c3d",
   "metadata": {},
   "outputs": [],
   "source": [
    "# filling the missing book names with untitled\n",
    "\n",
    "df['Book Name'].fillna(\"Untitled Book\", inplace=True)"
   ]
  },
  {
   "cell_type": "code",
   "execution_count": 13,
   "id": "a1fb53c9",
   "metadata": {},
   "outputs": [],
   "source": [
    "# coverting the publishing year datatype from float to int\n",
    "\n",
    "df['Publishing Year']=df['Publishing Year'].astype(int)   "
   ]
  },
  {
   "cell_type": "code",
   "execution_count": 14,
   "id": "211fa4a6",
   "metadata": {},
   "outputs": [
    {
     "data": {
      "text/plain": [
       "array([1975, 1987, 2015, 2008, 2011, 1994, 2012, 1905, 2004, 1954, 2010,\n",
       "       1935, 1922, 1974, 1897, 2006, 1948, 2013, 2000, 1991, 1993, 1996,\n",
       "       1981, 1891, 1856, 1961, 2003, 2007, 1986, 2005, 1995, 1998, 1999,\n",
       "       1759, 1983, 1960, 1950, 1997, 2009, 2002, 1849, 1967, 1968, 1959,\n",
       "       1605, 1980, 1901, 1953, 1970, 2014, 1977, 1925, 1902, 1982, 1985,\n",
       "       1989, 1880, 1956, 1390, 1852, 1909, 2001, 1972, 1958, 1979, 1920,\n",
       "       1934, 1939, 1937, 1932, 1869, 1984, 1872, 1603, 1949, 1929, 1992,\n",
       "       1947, 1971, 1976, 1988, 1952, 1965, 1894, 1599, -380, 1593, 1831,\n",
       "       1899, 1812, 1623, 1854, -430, 1908, 1596, 2016, 1990, 1601, 1978,\n",
       "       1945, 1941, 1906, 1930, 1955, 1973, 1938, 1931, 1916, 1871, 1864,\n",
       "       1962, 1320, 1667, 1927, 1964, 1868, 1859, 1847, 1874, 1918, -300,\n",
       "       1969, 1835, 1915, 1883, -560, 1914, 1308, 1881, 1966, 1933,  -17,\n",
       "       1942, 1830, 1886, 1678, 1940, 1926, 1848, 1826, 1912, 1963, 1853,\n",
       "       1890, -441, 1928, 1896, 1957, 1911, 1879])"
      ]
     },
     "execution_count": 14,
     "metadata": {},
     "output_type": "execute_result"
    }
   ],
   "source": [
    "#checking unique year\n",
    "\n",
    "df['Publishing Year'].unique()     "
   ]
  },
  {
   "cell_type": "code",
   "execution_count": 15,
   "id": "88400751",
   "metadata": {},
   "outputs": [],
   "source": [
    "# the publishing year column contains negatives values that needs to be filtered out \n",
    "\n",
    "filter = df['Publishing Year'] > 0\n",
    "df = df.loc[filter, : ]"
   ]
  },
  {
   "cell_type": "code",
   "execution_count": 16,
   "id": "531d9984",
   "metadata": {},
   "outputs": [],
   "source": [
    "# in the genre column there are some rows with the values (genre fiction) which needs to be changed because there is no genre known as 'genre fiction'\n",
    "\n",
    "df['genre'] = df['genre'].replace('genre fiction', 'fiction')"
   ]
  },
  {
   "cell_type": "markdown",
   "id": "a314a747",
   "metadata": {},
   "source": [
    "## Data Analysis"
   ]
  },
  {
   "cell_type": "code",
   "execution_count": 17,
   "id": "f7172183",
   "metadata": {},
   "outputs": [],
   "source": [
    "# the gross sale was not properly calcualte, a new column was created to manually calculate the gross sale\n",
    "\n",
    "df['gross_sales']= df['units sold'] * df['sale price']"
   ]
  },
  {
   "cell_type": "code",
   "execution_count": 18,
   "id": "1e1c7b5c",
   "metadata": {},
   "outputs": [
    {
     "name": "stdout",
     "output_type": "stream",
     "text": [
      "Total Units Sold Over The Year was : 10259305\n",
      "Total Gross Sale Over The Year was : 50334615.59\n"
     ]
    }
   ],
   "source": [
    "units_sold = df['units sold'].sum()\n",
    "\n",
    "gross_sales = round(df['gross_sales'].sum(),2)\n",
    "\n",
    "print(f'Total Units Sold Over The Year was : {units_sold}')\n",
    "print(f'Total Gross Sale Over The Year was : {gross_sales}')"
   ]
  },
  {
   "cell_type": "markdown",
   "id": "ced4e44d",
   "metadata": {},
   "source": [
    "##### Sales trend over the last 10 years"
   ]
  },
  {
   "cell_type": "code",
   "execution_count": 19,
   "id": "3941a27d",
   "metadata": {},
   "outputs": [
    {
     "data": {
      "text/html": [
       "<div>\n",
       "<style scoped>\n",
       "    .dataframe tbody tr th:only-of-type {\n",
       "        vertical-align: middle;\n",
       "    }\n",
       "\n",
       "    .dataframe tbody tr th {\n",
       "        vertical-align: top;\n",
       "    }\n",
       "\n",
       "    .dataframe thead th {\n",
       "        text-align: right;\n",
       "    }\n",
       "</style>\n",
       "<table border=\"1\" class=\"dataframe\">\n",
       "  <thead>\n",
       "    <tr style=\"text-align: right;\">\n",
       "      <th></th>\n",
       "      <th>Publishing Year</th>\n",
       "      <th>units sold</th>\n",
       "    </tr>\n",
       "  </thead>\n",
       "  <tbody>\n",
       "    <tr>\n",
       "      <th>0</th>\n",
       "      <td>2016</td>\n",
       "      <td>91276</td>\n",
       "    </tr>\n",
       "    <tr>\n",
       "      <th>1</th>\n",
       "      <td>2015</td>\n",
       "      <td>231140</td>\n",
       "    </tr>\n",
       "    <tr>\n",
       "      <th>2</th>\n",
       "      <td>2014</td>\n",
       "      <td>182342</td>\n",
       "    </tr>\n",
       "    <tr>\n",
       "      <th>3</th>\n",
       "      <td>2013</td>\n",
       "      <td>422449</td>\n",
       "    </tr>\n",
       "    <tr>\n",
       "      <th>4</th>\n",
       "      <td>2012</td>\n",
       "      <td>769084</td>\n",
       "    </tr>\n",
       "    <tr>\n",
       "      <th>5</th>\n",
       "      <td>2011</td>\n",
       "      <td>635477</td>\n",
       "    </tr>\n",
       "    <tr>\n",
       "      <th>6</th>\n",
       "      <td>2010</td>\n",
       "      <td>489571</td>\n",
       "    </tr>\n",
       "    <tr>\n",
       "      <th>7</th>\n",
       "      <td>2009</td>\n",
       "      <td>468282</td>\n",
       "    </tr>\n",
       "    <tr>\n",
       "      <th>8</th>\n",
       "      <td>2008</td>\n",
       "      <td>150000</td>\n",
       "    </tr>\n",
       "    <tr>\n",
       "      <th>9</th>\n",
       "      <td>2007</td>\n",
       "      <td>427143</td>\n",
       "    </tr>\n",
       "  </tbody>\n",
       "</table>\n",
       "</div>"
      ],
      "text/plain": [
       "   Publishing Year  units sold\n",
       "0             2016       91276\n",
       "1             2015      231140\n",
       "2             2014      182342\n",
       "3             2013      422449\n",
       "4             2012      769084\n",
       "5             2011      635477\n",
       "6             2010      489571\n",
       "7             2009      468282\n",
       "8             2008      150000\n",
       "9             2007      427143"
      ]
     },
     "execution_count": 19,
     "metadata": {},
     "output_type": "execute_result"
    }
   ],
   "source": [
    "sales =df[['Publishing Year','units sold']]\n",
    "sales_trend = sales.groupby('Publishing Year')['units sold'].sum().reset_index()\n",
    "sales_trend = sales_trend.sort_values(by = 'Publishing Year', ascending = False).reset_index(drop=True).head(10)\n",
    "sales_trend"
   ]
  },
  {
   "cell_type": "code",
   "execution_count": 41,
   "id": "e38e87ec",
   "metadata": {},
   "outputs": [
    {
     "data": {
      "image/png": "[encoded data removed]",
      "text/plain": [
       "<Figure size 700x400 with 1 Axes>"
      ]
     },
     "metadata": {},
     "output_type": "display_data"
    }
   ],
   "source": [
    "fig, ax = plt.subplots(figsize = (7,4))\n",
    "\n",
    "ax.plot(sales_trend['Publishing Year'] ,sales_trend['units sold'], marker ='o',  color='darkgreen')\n",
    "\n",
    "plt.title('Units Sold by Year')\n",
    "plt.xlabel('Year')\n",
    "plt.ylabel('Units Sold')\n",
    "ax.set_ylim(bottom=0)\n",
    "\n",
    "plt.show()"
   ]
  },
  {
   "cell_type": "code",
   "execution_count": 42,
   "id": "badf0601",
   "metadata": {},
   "outputs": [
    {
     "data": {
      "text/html": [
       "<div>\n",
       "<style scoped>\n",
       "    .dataframe tbody tr th:only-of-type {\n",
       "        vertical-align: middle;\n",
       "    }\n",
       "\n",
       "    .dataframe tbody tr th {\n",
       "        vertical-align: top;\n",
       "    }\n",
       "\n",
       "    .dataframe thead th {\n",
       "        text-align: right;\n",
       "    }\n",
       "</style>\n",
       "<table border=\"1\" class=\"dataframe\">\n",
       "  <thead>\n",
       "    <tr style=\"text-align: right;\">\n",
       "      <th></th>\n",
       "      <th>Publishing Year</th>\n",
       "      <th>gross_sales</th>\n",
       "    </tr>\n",
       "  </thead>\n",
       "  <tbody>\n",
       "    <tr>\n",
       "      <th>0</th>\n",
       "      <td>2016</td>\n",
       "      <td>747794.44</td>\n",
       "    </tr>\n",
       "    <tr>\n",
       "      <th>1</th>\n",
       "      <td>2015</td>\n",
       "      <td>895168.42</td>\n",
       "    </tr>\n",
       "    <tr>\n",
       "      <th>2</th>\n",
       "      <td>2014</td>\n",
       "      <td>993385.04</td>\n",
       "    </tr>\n",
       "    <tr>\n",
       "      <th>3</th>\n",
       "      <td>2013</td>\n",
       "      <td>1425839.77</td>\n",
       "    </tr>\n",
       "    <tr>\n",
       "      <th>4</th>\n",
       "      <td>2012</td>\n",
       "      <td>4003253.24</td>\n",
       "    </tr>\n",
       "    <tr>\n",
       "      <th>5</th>\n",
       "      <td>2011</td>\n",
       "      <td>3210878.68</td>\n",
       "    </tr>\n",
       "    <tr>\n",
       "      <th>6</th>\n",
       "      <td>2010</td>\n",
       "      <td>1450557.93</td>\n",
       "    </tr>\n",
       "    <tr>\n",
       "      <th>7</th>\n",
       "      <td>2009</td>\n",
       "      <td>2827695.59</td>\n",
       "    </tr>\n",
       "    <tr>\n",
       "      <th>8</th>\n",
       "      <td>2008</td>\n",
       "      <td>750578.77</td>\n",
       "    </tr>\n",
       "    <tr>\n",
       "      <th>9</th>\n",
       "      <td>2007</td>\n",
       "      <td>1756708.17</td>\n",
       "    </tr>\n",
       "  </tbody>\n",
       "</table>\n",
       "</div>"
      ],
      "text/plain": [
       "   Publishing Year  gross_sales\n",
       "0             2016    747794.44\n",
       "1             2015    895168.42\n",
       "2             2014    993385.04\n",
       "3             2013   1425839.77\n",
       "4             2012   4003253.24\n",
       "5             2011   3210878.68\n",
       "6             2010   1450557.93\n",
       "7             2009   2827695.59\n",
       "8             2008    750578.77\n",
       "9             2007   1756708.17"
      ]
     },
     "execution_count": 42,
     "metadata": {},
     "output_type": "execute_result"
    }
   ],
   "source": [
    "gross =df[['Publishing Year','gross_sales']]\n",
    "gross_trend = gross.groupby('Publishing Year')['gross_sales'].sum().reset_index()\n",
    "gross_trend = gross_trend.sort_values(by = 'Publishing Year', ascending = False).reset_index(drop=True).head(10)\n",
    "gross_trend "
   ]
  },
  {
   "cell_type": "code",
   "execution_count": 43,
   "id": "31c8d636",
   "metadata": {},
   "outputs": [
    {
     "data": {
      "image/png": "[encoded data removed]",
      "text/plain": [
       "<Figure size 700x400 with 1 Axes>"
      ]
     },
     "metadata": {},
     "output_type": "display_data"
    }
   ],
   "source": [
    "fig, ax = plt.subplots(figsize = (7,4))\n",
    "\n",
    "ax.plot(gross_trend['Publishing Year'] ,gross_trend['gross_sales'], marker ='o',  color='seagreen')\n",
    "\n",
    "plt.title('Gross Sales by Year')\n",
    "plt.xlabel('Year')\n",
    "plt.ylabel('Gross Sale (million)')\n",
    "ax.set_ylim(bottom=0)\n",
    "\n",
    "plt.show()"
   ]
  },
  {
   "cell_type": "markdown",
   "id": "056ecd87",
   "metadata": {},
   "source": [
    "##### Top 5 Publishing Years"
   ]
  },
  {
   "cell_type": "code",
   "execution_count": 44,
   "id": "1a7772d2",
   "metadata": {},
   "outputs": [
    {
     "data": {
      "text/plain": [
       "Publishing Year\n",
       "2012    68\n",
       "2011    55\n",
       "2009    46\n",
       "2010    44\n",
       "2006    41\n",
       "Name: count, dtype: int64"
      ]
     },
     "execution_count": 44,
     "metadata": {},
     "output_type": "execute_result"
    }
   ],
   "source": [
    "yearly_counts = df['Publishing Year'].value_counts().head(5)\n",
    "yearly_counts"
   ]
  },
  {
   "cell_type": "code",
   "execution_count": 45,
   "id": "67fc4409",
   "metadata": {},
   "outputs": [
    {
     "data": {
      "image/png": "[encoded data removed]",
      "text/plain": [
       "<Figure size 700x400 with 1 Axes>"
      ]
     },
     "metadata": {},
     "output_type": "display_data"
    }
   ],
   "source": [
    "fig, ax = plt.subplots(figsize = (7,4))\n",
    "sns.set_style(\"darkgrid\")\n",
    "yearly_counts.plot(kind='bar', color='coral')\n",
    "\n",
    "plt.title('Top 5 Publishing Year')\n",
    "plt.xlabel('Publishing Year')\n",
    "plt.ylabel('Count')\n",
    "\n",
    "plt.show()"
   ]
  },
  {
   "cell_type": "markdown",
   "id": "a9789def",
   "metadata": {},
   "source": [
    "###### Which Genre Was Most Books Published in"
   ]
  },
  {
   "cell_type": "code",
   "execution_count": 46,
   "id": "052c2c11",
   "metadata": {},
   "outputs": [
    {
     "data": {
      "text/plain": [
       "genre\n",
       "fiction       878\n",
       "nonfiction    170\n",
       "children       15\n",
       "Name: count, dtype: int64"
      ]
     },
     "execution_count": 46,
     "metadata": {},
     "output_type": "execute_result"
    }
   ],
   "source": [
    "genre_count=df['genre'].value_counts()    \n",
    "genre_count"
   ]
  },
  {
   "cell_type": "code",
   "execution_count": 47,
   "id": "0767c711",
   "metadata": {},
   "outputs": [
    {
     "data": {
      "image/png": "[encoded data removed]",
      "text/plain": [
       "<Figure size 600x400 with 1 Axes>"
      ]
     },
     "metadata": {},
     "output_type": "display_data"
    }
   ],
   "source": [
    "plt.figure(figsize=(6, 4))\n",
    "ax = sns.countplot(x='genre', data=df, order=df['genre'].value_counts().index)\n",
    "\n",
    "plt.xlabel('Genre')\n",
    "plt.ylabel('Count')\n",
    "plt.title('Count of Books by Genre')\n",
    "\n",
    "plt.show()"
   ]
  },
  {
   "cell_type": "markdown",
   "id": "52c4e275",
   "metadata": {},
   "source": [
    "###### Popular Author_Ratings"
   ]
  },
  {
   "cell_type": "code",
   "execution_count": 48,
   "id": "9a73b7b2",
   "metadata": {},
   "outputs": [
    {
     "data": {
      "text/html": [
       "<div>\n",
       "<style scoped>\n",
       "    .dataframe tbody tr th:only-of-type {\n",
       "        vertical-align: middle;\n",
       "    }\n",
       "\n",
       "    .dataframe tbody tr th {\n",
       "        vertical-align: top;\n",
       "    }\n",
       "\n",
       "    .dataframe thead th {\n",
       "        text-align: right;\n",
       "    }\n",
       "</style>\n",
       "<table border=\"1\" class=\"dataframe\">\n",
       "  <thead>\n",
       "    <tr style=\"text-align: right;\">\n",
       "      <th></th>\n",
       "      <th>Author_Rating</th>\n",
       "      <th>units sold</th>\n",
       "    </tr>\n",
       "  </thead>\n",
       "  <tbody>\n",
       "    <tr>\n",
       "      <th>0</th>\n",
       "      <td>Intermediate</td>\n",
       "      <td>4930601</td>\n",
       "    </tr>\n",
       "    <tr>\n",
       "      <th>1</th>\n",
       "      <td>Excellent</td>\n",
       "      <td>4771018</td>\n",
       "    </tr>\n",
       "    <tr>\n",
       "      <th>2</th>\n",
       "      <td>Famous</td>\n",
       "      <td>344990</td>\n",
       "    </tr>\n",
       "    <tr>\n",
       "      <th>3</th>\n",
       "      <td>Novice</td>\n",
       "      <td>212696</td>\n",
       "    </tr>\n",
       "  </tbody>\n",
       "</table>\n",
       "</div>"
      ],
      "text/plain": [
       "  Author_Rating  units sold\n",
       "0  Intermediate     4930601\n",
       "1     Excellent     4771018\n",
       "2        Famous      344990\n",
       "3        Novice      212696"
      ]
     },
     "execution_count": 48,
     "metadata": {},
     "output_type": "execute_result"
    }
   ],
   "source": [
    "author = df[['Author_Rating', 'units sold']]\n",
    "author_sale = author.groupby('Author_Rating')['units sold'].sum().reset_index()\n",
    "author_sales= author_sale.sort_values(by='units sold', ascending = False).reset_index(drop = True)\n",
    "author_sales"
   ]
  },
  {
   "cell_type": "code",
   "execution_count": 49,
   "id": "ac04484d",
   "metadata": {},
   "outputs": [
    {
     "data": {
      "image/png": "[encoded data removed]",
      "text/plain": [
       "<Figure size 600x400 with 1 Axes>"
      ]
     },
     "metadata": {},
     "output_type": "display_data"
    }
   ],
   "source": [
    "bar_width = 0.5\n",
    "\n",
    "fig, ax = plt.subplots(figsize= (6,4))\n",
    "ax. bar(author_sales['Author_Rating'] ,author_sales['units sold'], width = bar_width, color ='seagreen')\n",
    "\n",
    "plt.title('Units Sold by Author Rating')\n",
    "plt.xlabel('Author Rating')\n",
    "plt.ylabel('Units Sold (Million)')\n",
    "\n",
    "plt.show()"
   ]
  },
  {
   "cell_type": "markdown",
   "id": "5c358bfe",
   "metadata": {},
   "source": [
    "###### How are Books Avearage Rating Distributed"
   ]
  },
  {
   "cell_type": "code",
   "execution_count": 50,
   "id": "0d836e64",
   "metadata": {},
   "outputs": [
    {
     "data": {
      "text/plain": [
       "Text(0, 0.5, 'Frequency')"
      ]
     },
     "execution_count": 50,
     "metadata": {},
     "output_type": "execute_result"
    },
    {
     "data": {
      "image/png": "[encoded data removed]",
      "text/plain": [
       "<Figure size 600x400 with 1 Axes>"
      ]
     },
     "metadata": {},
     "output_type": "display_data"
    }
   ],
   "source": [
    "fig, ax = plt.subplots(figsize = (6,4))\n",
    "sns.histplot(data = df, x= 'Book_average_rating', kde= True)\n",
    "\n",
    "plt.title('Distribution of Average Book Ratings')\n",
    "plt.xlabel('Book average ratings')\n",
    "plt.ylabel('Frequency')"
   ]
  },
  {
   "cell_type": "markdown",
   "id": "9ad809d2",
   "metadata": {},
   "source": [
    "###### Which Genre is The Most Popular"
   ]
  },
  {
   "cell_type": "code",
   "execution_count": 51,
   "id": "76f86e7a",
   "metadata": {},
   "outputs": [
    {
     "data": {
      "text/html": [
       "<div>\n",
       "<style scoped>\n",
       "    .dataframe tbody tr th:only-of-type {\n",
       "        vertical-align: middle;\n",
       "    }\n",
       "\n",
       "    .dataframe tbody tr th {\n",
       "        vertical-align: top;\n",
       "    }\n",
       "\n",
       "    .dataframe thead th {\n",
       "        text-align: right;\n",
       "    }\n",
       "</style>\n",
       "<table border=\"1\" class=\"dataframe\">\n",
       "  <thead>\n",
       "    <tr style=\"text-align: right;\">\n",
       "      <th></th>\n",
       "      <th>genre</th>\n",
       "      <th>units sold</th>\n",
       "    </tr>\n",
       "  </thead>\n",
       "  <tbody>\n",
       "    <tr>\n",
       "      <th>0</th>\n",
       "      <td>fiction</td>\n",
       "      <td>8331234</td>\n",
       "    </tr>\n",
       "    <tr>\n",
       "      <th>1</th>\n",
       "      <td>nonfiction</td>\n",
       "      <td>1629953</td>\n",
       "    </tr>\n",
       "    <tr>\n",
       "      <th>2</th>\n",
       "      <td>children</td>\n",
       "      <td>298118</td>\n",
       "    </tr>\n",
       "  </tbody>\n",
       "</table>\n",
       "</div>"
      ],
      "text/plain": [
       "        genre  units sold\n",
       "0     fiction     8331234\n",
       "1  nonfiction     1629953\n",
       "2    children      298118"
      ]
     },
     "execution_count": 51,
     "metadata": {},
     "output_type": "execute_result"
    }
   ],
   "source": [
    "genre_unit = df[['genre', 'units sold']]\n",
    "genre_unit = genre_unit.groupby('genre')['units sold'].sum().reset_index()\n",
    "genre_units= genre_unit.sort_values(by='units sold', ascending = False).reset_index(drop = True)\n",
    "genre_units"
   ]
  },
  {
   "cell_type": "code",
   "execution_count": 52,
   "id": "62870c64",
   "metadata": {},
   "outputs": [
    {
     "data": {
      "image/png": "[encoded data removed]",
      "text/plain": [
       "<Figure size 600x400 with 1 Axes>"
      ]
     },
     "metadata": {},
     "output_type": "display_data"
    }
   ],
   "source": [
    "bar_width = 0.5\n",
    "\n",
    "fig, ax = plt.subplots(figsize=(6, 4))\n",
    "ax.bar(genre_units['genre'], genre_units['units sold'], width=bar_width)\n",
    "\n",
    "plt.title('Units Sold by Genre')\n",
    "plt.xlabel('Genre')\n",
    "plt.ylabel('Units Sold (Million)')\n",
    "\n",
    "plt.show()"
   ]
  },
  {
   "cell_type": "markdown",
   "id": "65fb010e",
   "metadata": {},
   "source": [
    "###### Is There Any Correlation Between ('Book_average_rating', 'Book_ratings_count','gross_sales', 'sale price', 'units sold', 'publisher revenue')"
   ]
  },
  {
   "cell_type": "code",
   "execution_count": 53,
   "id": "1c115d49",
   "metadata": {},
   "outputs": [],
   "source": [
    "df_corr = df[['Book_average_rating', 'Book_ratings_count','gross_sales', 'sale price', 'units sold', 'publisher revenue' ]]\n",
    "correlation_matrix = df_corr.corr()"
   ]
  },
  {
   "cell_type": "code",
   "execution_count": 54,
   "id": "a222f74f",
   "metadata": {},
   "outputs": [
    {
     "data": {
      "image/png": "[encoded data removed]",
      "text/plain": [
       "<Figure size 700x400 with 2 Axes>"
      ]
     },
     "metadata": {},
     "output_type": "display_data"
    }
   ],
   "source": [
    "plt.figure(figsize=(7, 4))\n",
    "sns.heatmap(correlation_matrix, annot=True, cmap='coolwarm', fmt=\".2f\", linewidths=.5)\n",
    "plt.title('Heatmap Correlation')\n",
    "plt.show()"
   ]
  },
  {
   "cell_type": "markdown",
   "id": "75f2efe8",
   "metadata": {},
   "source": [
    "###### Best Selling Authors"
   ]
  },
  {
   "cell_type": "code",
   "execution_count": 55,
   "id": "5d7e339e",
   "metadata": {},
   "outputs": [
    {
     "data": {
      "text/html": [
       "<div>\n",
       "<style scoped>\n",
       "    .dataframe tbody tr th:only-of-type {\n",
       "        vertical-align: middle;\n",
       "    }\n",
       "\n",
       "    .dataframe tbody tr th {\n",
       "        vertical-align: top;\n",
       "    }\n",
       "\n",
       "    .dataframe thead th {\n",
       "        text-align: right;\n",
       "    }\n",
       "</style>\n",
       "<table border=\"1\" class=\"dataframe\">\n",
       "  <thead>\n",
       "    <tr style=\"text-align: right;\">\n",
       "      <th></th>\n",
       "      <th>Author</th>\n",
       "      <th>gross_sales</th>\n",
       "      <th>units sold</th>\n",
       "    </tr>\n",
       "  </thead>\n",
       "  <tbody>\n",
       "    <tr>\n",
       "      <th>0</th>\n",
       "      <td>Stephen King</td>\n",
       "      <td>1308083.63</td>\n",
       "      <td>278322</td>\n",
       "    </tr>\n",
       "    <tr>\n",
       "      <th>1</th>\n",
       "      <td>Janet Evanovich</td>\n",
       "      <td>1349600.40</td>\n",
       "      <td>181089</td>\n",
       "    </tr>\n",
       "    <tr>\n",
       "      <th>2</th>\n",
       "      <td>Lemony Snicket, Brett Helquist</td>\n",
       "      <td>870931.27</td>\n",
       "      <td>158973</td>\n",
       "    </tr>\n",
       "    <tr>\n",
       "      <th>3</th>\n",
       "      <td>Jim Butcher</td>\n",
       "      <td>787809.37</td>\n",
       "      <td>145827</td>\n",
       "    </tr>\n",
       "    <tr>\n",
       "      <th>4</th>\n",
       "      <td>Robert Jordan</td>\n",
       "      <td>296991.54</td>\n",
       "      <td>133512</td>\n",
       "    </tr>\n",
       "    <tr>\n",
       "      <th>5</th>\n",
       "      <td>Colleen Hoover</td>\n",
       "      <td>765824.30</td>\n",
       "      <td>123522</td>\n",
       "    </tr>\n",
       "    <tr>\n",
       "      <th>6</th>\n",
       "      <td>Eoin Colfer</td>\n",
       "      <td>222482.43</td>\n",
       "      <td>105219</td>\n",
       "    </tr>\n",
       "    <tr>\n",
       "      <th>7</th>\n",
       "      <td>L.M. Montgomery</td>\n",
       "      <td>137856.33</td>\n",
       "      <td>103167</td>\n",
       "    </tr>\n",
       "    <tr>\n",
       "      <th>8</th>\n",
       "      <td>Jeff Kinney</td>\n",
       "      <td>412407.07</td>\n",
       "      <td>97793</td>\n",
       "    </tr>\n",
       "    <tr>\n",
       "      <th>9</th>\n",
       "      <td>Chuck Palahniuk</td>\n",
       "      <td>528462.66</td>\n",
       "      <td>97134</td>\n",
       "    </tr>\n",
       "  </tbody>\n",
       "</table>\n",
       "</div>"
      ],
      "text/plain": [
       "                           Author  gross_sales  units sold\n",
       "0                    Stephen King   1308083.63      278322\n",
       "1                 Janet Evanovich   1349600.40      181089\n",
       "2  Lemony Snicket, Brett Helquist    870931.27      158973\n",
       "3                     Jim Butcher    787809.37      145827\n",
       "4                   Robert Jordan    296991.54      133512\n",
       "5                  Colleen Hoover    765824.30      123522\n",
       "6                     Eoin Colfer    222482.43      105219\n",
       "7                 L.M. Montgomery    137856.33      103167\n",
       "8                     Jeff Kinney    412407.07       97793\n",
       "9                 Chuck Palahniuk    528462.66       97134"
      ]
     },
     "execution_count": 55,
     "metadata": {},
     "output_type": "execute_result"
    }
   ],
   "source": [
    "author = df[['Author', 'gross_sales', 'units sold']]\n",
    "author_sale = author.groupby(['Author'])[['gross_sales', 'units sold']].sum().reset_index()\n",
    "author_sales= author_sale.sort_values(by='units sold', ascending = False).reset_index(drop = True).head(10)\n",
    "author_sales"
   ]
  },
  {
   "cell_type": "markdown",
   "id": "263e4722",
   "metadata": {},
   "source": [
    "###### Which Books Are The Most Popular "
   ]
  },
  {
   "cell_type": "code",
   "execution_count": 56,
   "id": "7ec144dc",
   "metadata": {},
   "outputs": [
    {
     "data": {
      "text/html": [
       "<div>\n",
       "<style scoped>\n",
       "    .dataframe tbody tr th:only-of-type {\n",
       "        vertical-align: middle;\n",
       "    }\n",
       "\n",
       "    .dataframe tbody tr th {\n",
       "        vertical-align: top;\n",
       "    }\n",
       "\n",
       "    .dataframe thead th {\n",
       "        text-align: right;\n",
       "    }\n",
       "</style>\n",
       "<table border=\"1\" class=\"dataframe\">\n",
       "  <thead>\n",
       "    <tr style=\"text-align: right;\">\n",
       "      <th></th>\n",
       "      <th>Book Name</th>\n",
       "      <th>gross_sales</th>\n",
       "      <th>units sold</th>\n",
       "    </tr>\n",
       "  </thead>\n",
       "  <tbody>\n",
       "    <tr>\n",
       "      <th>0</th>\n",
       "      <td>Untitled Book</td>\n",
       "      <td>456756.92</td>\n",
       "      <td>89771</td>\n",
       "    </tr>\n",
       "    <tr>\n",
       "      <th>1</th>\n",
       "      <td>New Moon: The Complete Illustrated Movie Compa...</td>\n",
       "      <td>676544.40</td>\n",
       "      <td>61560</td>\n",
       "    </tr>\n",
       "    <tr>\n",
       "      <th>2</th>\n",
       "      <td>Mr Maybe</td>\n",
       "      <td>243900.72</td>\n",
       "      <td>61128</td>\n",
       "    </tr>\n",
       "    <tr>\n",
       "      <th>3</th>\n",
       "      <td>Maybe Someday</td>\n",
       "      <td>417504.24</td>\n",
       "      <td>61128</td>\n",
       "    </tr>\n",
       "    <tr>\n",
       "      <th>4</th>\n",
       "      <td>Anne of the Island</td>\n",
       "      <td>60089.04</td>\n",
       "      <td>60696</td>\n",
       "    </tr>\n",
       "    <tr>\n",
       "      <th>5</th>\n",
       "      <td>Also sprach Zarathustra</td>\n",
       "      <td>434214.00</td>\n",
       "      <td>59400</td>\n",
       "    </tr>\n",
       "    <tr>\n",
       "      <th>6</th>\n",
       "      <td>North and South</td>\n",
       "      <td>235282.32</td>\n",
       "      <td>58968</td>\n",
       "    </tr>\n",
       "    <tr>\n",
       "      <th>7</th>\n",
       "      <td>A Stolen Life</td>\n",
       "      <td>228387.60</td>\n",
       "      <td>57240</td>\n",
       "    </tr>\n",
       "    <tr>\n",
       "      <th>8</th>\n",
       "      <td>The Immortals of Meluha</td>\n",
       "      <td>169855.92</td>\n",
       "      <td>56808</td>\n",
       "    </tr>\n",
       "    <tr>\n",
       "      <th>9</th>\n",
       "      <td>The Lost World</td>\n",
       "      <td>556722.72</td>\n",
       "      <td>55728</td>\n",
       "    </tr>\n",
       "  </tbody>\n",
       "</table>\n",
       "</div>"
      ],
      "text/plain": [
       "                                           Book Name  gross_sales  units sold\n",
       "0                                      Untitled Book    456756.92       89771\n",
       "1  New Moon: The Complete Illustrated Movie Compa...    676544.40       61560\n",
       "2                                           Mr Maybe    243900.72       61128\n",
       "3                                      Maybe Someday    417504.24       61128\n",
       "4                                 Anne of the Island     60089.04       60696\n",
       "5                            Also sprach Zarathustra    434214.00       59400\n",
       "6                                    North and South    235282.32       58968\n",
       "7                                      A Stolen Life    228387.60       57240\n",
       "8                            The Immortals of Meluha    169855.92       56808\n",
       "9                                     The Lost World    556722.72       55728"
      ]
     },
     "execution_count": 56,
     "metadata": {},
     "output_type": "execute_result"
    }
   ],
   "source": [
    "book = df[['Book Name', 'gross_sales', 'units sold']]\n",
    "book_sale = book.groupby(['Book Name'])[['gross_sales', 'units sold']].sum().reset_index()\n",
    "book_sales= book_sale.sort_values(by='units sold', ascending = False).reset_index(drop = True).head(10)\n",
    "book_sales"
   ]
  },
  {
   "cell_type": "markdown",
   "id": "17eac558",
   "metadata": {},
   "source": [
    "###### Which Publisher is The Most Popular"
   ]
  },
  {
   "cell_type": "code",
   "execution_count": 57,
   "id": "0c91c9b6",
   "metadata": {},
   "outputs": [
    {
     "data": {
      "text/plain": [
       "Publisher \n",
       "Amazon Digital Services,  Inc.          0.560677\n",
       "Random House LLC                        0.112888\n",
       "Penguin Group (USA) LLC                 0.100659\n",
       "HarperCollins Publishers                0.066792\n",
       "Hachette Book Group                     0.060207\n",
       "Simon and Schuster Digital Sales Inc    0.052681\n",
       "Macmillan                               0.038570\n",
       "HarperCollins Publishing                0.003763\n",
       "HarperCollins Christian Publishing      0.003763\n",
       "Name: proportion, dtype: float64"
      ]
     },
     "execution_count": 57,
     "metadata": {},
     "output_type": "execute_result"
    }
   ],
   "source": [
    "publisher_counts =df['Publisher '].value_counts(normalize = True)\n",
    "publisher_counts"
   ]
  },
  {
   "cell_type": "code",
   "execution_count": 58,
   "id": "6dadb5fa",
   "metadata": {},
   "outputs": [
    {
     "data": {
      "text/plain": [
       "Text(0.5, 1.0, 'Count of Books by Publisher')"
      ]
     },
     "execution_count": 58,
     "metadata": {},
     "output_type": "execute_result"
    },
    {
     "data": {
      "image/png": "[encoded data removed]",
      "text/plain": [
       "<Figure size 700x400 with 1 Axes>"
      ]
     },
     "metadata": {},
     "output_type": "display_data"
    }
   ],
   "source": [
    "fig, ax= plt.subplots(figsize =(7,4))\n",
    "ax = sns.countplot(x='Publisher ', data=df, order=df['Publisher '].value_counts().index)\n",
    "\n",
    "plt.xticks(rotation=90)\n",
    "plt.ylabel('Count of Books')\n",
    "plt.title('Count of Books by Publisher')"
   ]
  },
  {
   "cell_type": "markdown",
   "id": "86da273d",
   "metadata": {},
   "source": [
    "## Insights"
   ]
  },
  {
   "cell_type": "markdown",
   "id": "573ae0b2",
   "metadata": {},
   "source": [
    "1. There was a drop in sale from 2007 to 2008. Sales continue in an uptrend and reaches its peak in **2012** with over 40 million gross sales before dropping massively from 2013 upward.\n",
    "\n",
    "2. 68 books was published in 2012, which was the highest number of books published.\n",
    "\n",
    "3. The most popular genre is **Fiction** with over 800 books published and over 8 million units sold.\n",
    "\n",
    "4. Author rated **Intermediate** sold more books with over 4 million books sold followed closely by Excellent rated Author.\n",
    "\n",
    "5. There is a strong correlation between the units sold and gross sale. Book_average_rating and sale price has no correlation with the number of units sold or gross sales.\n",
    "\n",
    "6. The most popular book was without a name, the second most popular book was **New Moon: The Complete Illustrated Movie Companion** which was written by **Mark Cotta Vaz** and published by \"Penguin Group (USA) LLC\" in 2009.\n",
    "\n",
    "7. The best selling Author was **Stephen King** wth **278,322** units of books sold.\n",
    "\n",
    "8. Majority of the books were published by **Amazon Digital Services, Inc.** publishing over 50% of the total books published.\n"
   ]
  },
  {
   "cell_type": "markdown",
   "id": "cf2de776",
   "metadata": {},
   "source": [
    "## Recommendations"
   ]
  },
  {
   "cell_type": "markdown",
   "id": "a5a6e313",
   "metadata": {},
   "source": [
    "* Fiction being the most selling genre category indicates a strong customer buying preference. Publishers can develop targeted and innovative marketing campaigns for fiction titles books .\n",
    "\n",
    "* Publishers should identify and invest in popular fiction authors. Their established fan base can drive sales, and marketing efforts can be focused on promoting their latest releases.\n",
    "\n",
    "* Publishers should continuously conduct market research to identify emerging trends and reader preferences. Stay informed about what is resonating with readers to guide publishing decisions.\n",
    "\n",
    "* For the low selling genres publishers should develop creative and innovative marketing strategies to generate interest in the genre. This might involve leveraging social media, creating interactive content, or partnering with influencers who have a specific interest in the niche.\n",
    "\n",
    "* Publishers should consider offering bundle deals or promotions for the low-selling genre. Combining books at a discounted rate can encourage readers to explore new titles within the genre."
   ]
  },
  {
   "cell_type": "code",
   "execution_count": null,
   "id": "091adf9b",
   "metadata": {},
   "outputs": [],
   "source": []
  }
 ],
 "metadata": {
  "kernelspec": {
   "display_name": "Python 3 (ipykernel)",
   "language": "python",
   "name": "python3"
  },
  "language_info": {
   "codemirror_mode": {
    "name": "ipython",
    "version": 3
   },
   "file_extension": ".py",
   "mimetype": "text/x-python",
   "name": "python",
   "nbconvert_exporter": "python",
   "pygments_lexer": "ipython3",
   "version": "3.11.5"
  }
 },
 "nbformat": 4,
 "nbformat_minor": 5
}
